{
 "metadata": {
  "language_info": {
   "codemirror_mode": {
    "name": "ipython",
    "version": 3
   },
   "file_extension": ".py",
   "mimetype": "text/x-python",
   "name": "python",
   "nbconvert_exporter": "python",
   "pygments_lexer": "ipython3",
   "version": "3.8.0-final"
  },
  "orig_nbformat": 2,
  "kernelspec": {
   "name": "python3",
   "display_name": "Python 3.8.0 64-bit",
   "metadata": {
    "interpreter": {
     "hash": "4cd7ab41f5fca4b9b44701077e38c5ffd31fe66a6cab21e0214b68d958d0e462"
    }
   }
  }
 },
 "nbformat": 4,
 "nbformat_minor": 2,
 "cells": [
  {
   "cell_type": "code",
   "execution_count": 18,
   "metadata": {},
   "outputs": [],
   "source": [
    "import requests\n",
    "import pandas as pd\n",
    "import re\n",
    "from bs4 import BeautifulSoup\n",
    "import yfinance as yf\n",
    "import numpy as np\n",
    "from googlesearch import search"
   ]
  },
  {
   "cell_type": "code",
   "execution_count": 19,
   "metadata": {},
   "outputs": [],
   "source": [
    "def calc_1yr_returns(stock):\n",
    "    tick = yf.Ticker(stock)\n",
    "    df = tick.history('1y')\n",
    "    ret = round(100*((df['Close'].iloc[-1]-df['Close'].iloc[0])/df['Close'].iloc[0]),2)\n",
    "    return ret"
   ]
  },
  {
   "cell_type": "code",
   "execution_count": 20,
   "metadata": {},
   "outputs": [],
   "source": [
    "def cumulative_returns(stock):\n",
    "    tick = yf.Ticker(stock)\n",
    "    df = tick.history('3y')\n",
    "    df = df[['Close']]\n",
    "    df['ret'] = df['Close'].pct_change()\n",
    "    df.dropna(inplace=True)\n",
    "    df = df[['ret']]\n",
    "    cumula_ret = (1 + df).cumprod()-1\n",
    "    return round(100*cumula_ret['ret'].iloc[-1],2)"
   ]
  },
  {
   "cell_type": "code",
   "execution_count": 21,
   "metadata": {},
   "outputs": [],
   "source": [
    "def scrape_web(search_txt):\n",
    "    symbol_list = []\n",
    "    google_res = []\n",
    "\n",
    "    for l in search(search_txt, tld=\"co.in\", num=10, stop=10, pause=2):\n",
    "        google_res.append(l)\n",
    "    \n",
    "    for res in google_res:\n",
    "        req = requests.get(res)\n",
    "        req = req.content\n",
    "        soup = BeautifulSoup(req, 'lxml')\n",
    "        bodies = soup.find_all('p')\n",
    "        for body in bodies:\n",
    "            match = re.search(':[A-Z]+', body.text)\n",
    "            if match != None:\n",
    "                txt = match.group()\n",
    "                print(f'Match: {txt}')\n",
    "                symbol_list.append(txt)\n",
    "    \n",
    "    clean_list =[i.strip(':') for i in symbol_list]\n",
    "    clean_list.append('SPY')\n",
    "    return clean_list\n",
    "\n"
   ]
  },
  {
   "cell_type": "code",
   "execution_count": 22,
   "metadata": {},
   "outputs": [],
   "source": [
    "def create_file(clean_list):\n",
    "    rets = map(calc_1yr_returns, clean_list)\n",
    "    rets_df = pd.DataFrame(rets, columns=['1yr_return'], index=clean_list)\n",
    "    sp_ret =rets_df.loc[rets_df.index=='SPY'].values[0][0]\n",
    "    rets_df['beat S&P 1yr'] = np.where(rets_df['1yr_return']>sp_ret,\"Yes\", \"No\")\n",
    "\n",
    "    cum_rets = map(cumulative_returns, clean_list)\n",
    "    cum_rets_df = pd.DataFrame(cum_rets, columns=['3yr_cumulative_ret'],index=clean_list)\n",
    "    sp_ret2 = cum_rets_df.loc[cum_rets_df.index=='SPY'].values[0][0]\n",
    "    cum_rets_df['beat S&P 3yr'] = np.where(cum_rets_df['3yr_cumulative_ret']>sp_ret2,\"Yes\",\"No\")\n",
    "\n",
    "    final_df = pd.merge(rets_df, cum_rets_df, left_index=True, right_index=True)\n",
    "    final_df = final_df[['1yr_return', '3yr_cumulative_ret', 'beat S&P 1yr', 'beat S&P 3yr']]\n",
    "    final_df.drop_duplicates(inplace=True)\n",
    "    final_df.to_excel(\"Motley Fool Picks 2021.xlsx\")\n",
    "    print(\"file created\")\n",
    "\n",
    "\n",
    "\n"
   ]
  },
  {
   "cell_type": "code",
   "execution_count": 23,
   "metadata": {},
   "outputs": [
    {
     "output_type": "stream",
     "name": "stdout",
     "text": [
      "Match: :VBK\n",
      "Match: :IT\n",
      "Match: :HUYA\n",
      "Match: :SQ\n",
      "Match: :PI\n",
      "Match: :HIMX\n",
      "Match: :FVRR\n",
      "Match: :AMZN\n",
      "Match: :ROKU\n",
      "Match: :CTRE\n",
      "Match: :FVRR\n",
      "Match: :SQ\n",
      "Match: :TDOC\n",
      "Match: :ADBE\n",
      "Match: :PYPL\n",
      "Match: :SE\n",
      "Match: :FVRR\n",
      "Match: :NVDA\n",
      "Match: :GRWG\n",
      "Match: :ZNGA\n",
      "Match: :APHA\n",
      "Match: :ETSY\n",
      "Match: :MDB\n",
      "Match: :TDOC\n",
      "file created\n"
     ]
    }
   ],
   "source": [
    "\n",
    "symbol_list = scrape_web(\"Top 3 Growth Stocks Motley Fool\")\n",
    "create_file(symbol_list)"
   ]
  },
  {
   "cell_type": "code",
   "execution_count": null,
   "metadata": {},
   "outputs": [],
   "source": []
  }
 ]
}